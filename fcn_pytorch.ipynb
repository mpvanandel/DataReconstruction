{
 "cells": [
  {
   "cell_type": "code",
   "execution_count": 2,
   "metadata": {},
   "outputs": [],
   "source": [
    "import numpy as np\n",
    "import matplotlib.pyplot as plt\n",
    "from collections import defaultdict\n",
    "from PIL import Image\n",
    "import os\n",
    "import argparse\n",
    "import time\n",
    "from tqdm import trange\n",
    "from tensorboardX import SummaryWriter\n",
    "from collections import OrderedDict\n",
    "from torchsummary import summary\n",
    "\n",
    "import torch\n",
    "import torchvision\n",
    "import torch.nn as nn\n",
    "import torch.optim as optim\n",
    "import torch.utils.data as data\n",
    "import torchvision.transforms as transforms\n",
    "\n",
    "import medmnist\n",
    "from medmnist import RetinaMNIST\n",
    "from medmnist import INFO, Evaluator"
   ]
  },
  {
   "cell_type": "code",
   "execution_count": 24,
   "metadata": {},
   "outputs": [
    {
     "name": "stdout",
     "output_type": "stream",
     "text": [
      "Using downloaded and verified file: /home/matthijs/.medmnist/retinamnist.npz\n"
     ]
    }
   ],
   "source": [
    "num_samples = 8\n",
    "info = INFO[\"retinamnist\"]\n",
    "DataClass = getattr(medmnist, info['python_class'])\n",
    "data_transform = transforms.Compose([transforms.ToTensor()])\n",
    "train_dataset = DataClass(split='train', transform=data_transform, download=True, as_rgb=True)\n",
    "train_loader = data.DataLoader(train_dataset, batch_size=num_samples, shuffle=True)"
   ]
  },
  {
   "cell_type": "code",
   "execution_count": 25,
   "metadata": {},
   "outputs": [
    {
     "name": "stdout",
     "output_type": "stream",
     "text": [
      "torch.Size([3, 28, 28])\n"
     ]
    },
    {
     "data": {
      "text/plain": [
       "<matplotlib.image.AxesImage at 0x7f98bd1aa4c0>"
      ]
     },
     "execution_count": 25,
     "metadata": {},
     "output_type": "execute_result"
    },
    {
     "data": {
      "image/png": "[encoded data removed]",
      "text/plain": [
       "<Figure size 432x288 with 1 Axes>"
      ]
     },
     "metadata": {
      "needs_background": "light"
     },
     "output_type": "display_data"
    }
   ],
   "source": [
    "input, label = next(iter(train_loader))\n",
    "print(input[7].shape)\n",
    "plt.imshow(np.swapaxes(input[7],0,2))"
   ]
  },
  {
   "cell_type": "code",
   "execution_count": 28,
   "metadata": {},
   "outputs": [
    {
     "ename": "TypeError",
     "evalue": "train() takes 7 positional arguments but 9 were given",
     "output_type": "error",
     "traceback": [
      "\u001b[0;31m---------------------------------------------------------------------------\u001b[0m",
      "\u001b[0;31mTypeError\u001b[0m                                 Traceback (most recent call last)",
      "\u001b[1;32m/home/matthijs/DataReconstruction/fcn_pytorch.ipynb Cell 4\u001b[0m in \u001b[0;36m<cell line: 70>\u001b[0;34m()\u001b[0m\n\u001b[1;32m     <a href='vscode-notebook-cell:/home/matthijs/DataReconstruction/fcn_pytorch.ipynb#W3sZmlsZQ%3D%3D?line=67'>68</a>\u001b[0m \u001b[39m# for epoch in trange(num_epochs):\u001b[39;00m\n\u001b[1;32m     <a href='vscode-notebook-cell:/home/matthijs/DataReconstruction/fcn_pytorch.ipynb#W3sZmlsZQ%3D%3D?line=68'>69</a>\u001b[0m inputs, targets \u001b[39m=\u001b[39m \u001b[39mnext\u001b[39m(\u001b[39miter\u001b[39m(train_loader))\n\u001b[0;32m---> <a href='vscode-notebook-cell:/home/matthijs/DataReconstruction/fcn_pytorch.ipynb#W3sZmlsZQ%3D%3D?line=69'>70</a>\u001b[0m epoch_loss, G_layer1, G_layer2 \u001b[39m=\u001b[39m train(model, train_loader, criterion, optimizer, \u001b[39m\"\u001b[39;49m\u001b[39mcpu\u001b[39;49m\u001b[39m\"\u001b[39;49m, writer, num_batches, inputs, targets)\n\u001b[1;32m     <a href='vscode-notebook-cell:/home/matthijs/DataReconstruction/fcn_pytorch.ipynb#W3sZmlsZQ%3D%3D?line=71'>72</a>\u001b[0m     \u001b[39m# print(np.max(G_layer1)) #[1]/G_layer2[0])\u001b[39;00m\n\u001b[1;32m     <a href='vscode-notebook-cell:/home/matthijs/DataReconstruction/fcn_pytorch.ipynb#W3sZmlsZQ%3D%3D?line=72'>73</a>\u001b[0m gradients_layer1\u001b[39m.\u001b[39mappend(G_layer1)\n",
      "\u001b[0;31mTypeError\u001b[0m: train() takes 7 positional arguments but 9 were given"
     ]
    }
   ],
   "source": [
    "\n",
    "class MyModel(nn.Module):\n",
    "    def __init__(self, input_size):\n",
    "        super(MyModel, self).__init__()\n",
    "        self.fc1 = nn.Linear(input_size, 512)\n",
    "        self.relu1 = nn.ReLU()\n",
    "        self.fc2 = nn.Linear(512, 5)\n",
    "        self.softmax = nn.Softmax()\n",
    "\n",
    "    def forward(self, x):\n",
    "        x = x.reshape((x.shape[0], x.shape[1]*x.shape[2]*x.shape[3]))\n",
    "        x = self.fc1(x)\n",
    "        x = self.relu1(x)\n",
    "        x = self.fc2(x)\n",
    "        x = self.softmax(x)\n",
    "        return x\n",
    "    \n",
    "\n",
    "def train(model, criterion, optimizer, device, writer, inputs, targets):\n",
    "    total_loss = []\n",
    "    global iteration\n",
    "\n",
    "    model.train()\n",
    "    g_layer1 = []\n",
    "    g_layer2 = []\n",
    "    # for batch_idx, (inputs, targets) in enumerate(train_loader):\n",
    "    #     if batch_idx > num_batches: # for now, let's only look at two batches\n",
    "    #         break\n",
    "    optimizer.zero_grad()\n",
    "    outputs = model(inputs.to(device))\n",
    "\n",
    "    targets = torch.squeeze(targets, 1).long().to(device)\n",
    "    loss = criterion(outputs, targets)\n",
    "\n",
    "    total_loss.append(loss.item())\n",
    "    writer.add_scalar('train_loss_logs', loss.item(), iteration)\n",
    "    iteration += 1\n",
    "    loss.backward()\n",
    "    optimizer.step()\n",
    "    g_layer1 = model.fc1.weight.grad\n",
    "    g_layer2 = model.fc2.weight.grad\n",
    "        # print(model.fc2.weight.grad[0])\n",
    "    #     if batch_idx==0:\n",
    "    #         G_layer1 = model.fc1.weight.grad\n",
    "    #         G_layer2 = model.fc2.weight.grad\n",
    "    #     else:\n",
    "    #         G_layer1 += model.fc1.weight.grad\n",
    "    #         G_layer2 += model.fc2.weight.grad\n",
    "\n",
    "    # G_layer1 /= num_batches\n",
    "    # G_layer2 /= num_batches\n",
    "    epoch_loss = sum(total_loss)/len(total_loss)\n",
    "    return epoch_loss, g_layer1, g_layer2\n",
    "\n",
    "\n",
    "# Define model and optimizer\n",
    "model = MyModel(3*28*28)\n",
    "optimizer = optim.Adam(model.parameters())\n",
    "\n",
    "# Define loss function\n",
    "criterion = nn.CrossEntropyLoss()\n",
    "writer = SummaryWriter()\n",
    "\n",
    "iteration = 0\n",
    "num_epochs = 1\n",
    "num_batches = 5\n",
    "gradients_layer1 = []\n",
    "gradients_layer2 = []\n",
    "# for epoch in trange(num_epochs):\n",
    "inputs, targets = next(iter(train_loader))\n",
    "epoch_loss, G_layer1, G_layer2 = train(model, criterion, optimizer, \"cpu\", writer, inputs, targets)\n",
    "\n",
    "    # print(np.max(G_layer1)) #[1]/G_layer2[0])\n",
    "gradients_layer1.append(G_layer1)\n",
    "gradients_layer2.append(G_layer2)\n"
   ]
  },
  {
   "cell_type": "code",
   "execution_count": 6,
   "metadata": {},
   "outputs": [],
   "source": [
    "def find_duplicate_values(arr: np.ndarray) -> np.ndarray:\n",
    "    unique_vals, counts = np.unique(arr, return_counts=True)\n",
    "    dup_vals = unique_vals[(counts>1)]#*(~np.isnan(unique_vals))]\n",
    "    idcs = np.argwhere(np.array([(val  in dup_vals) for val in arr]))\n",
    "    return idcs"
   ]
  },
  {
   "cell_type": "code",
   "execution_count": 19,
   "metadata": {},
   "outputs": [
    {
     "name": "stdout",
     "output_type": "stream",
     "text": [
      "no exans\n"
     ]
    }
   ],
   "source": [
    "from random import choice\n",
    "\n",
    "def exact_label_reconstruction(loss_vector):\n",
    "    if np.sum(loss_vector<0)==1:\n",
    "        return np.argwhere(loss_vector<0)[0]\n",
    "    else:\n",
    "        return 0\n",
    "\n",
    "#take batch 0 and epoch 0 \n",
    "G1 = gradients_layer2[0][0][0,:]\n",
    "G = np.zeros((5, G1.shape[0]))\n",
    "r = np.zeros((5, G1.shape[0]))\n",
    "\n",
    "for c in range(5):\n",
    "    G[c] = gradients_layer2[0][0][c,:]\n",
    "    r[c] = G[c]/G1\n",
    "\n",
    "r_2 = r[1]\n",
    "\n",
    "indices = []\n",
    "exans = False\n",
    "for c in range(1, 5):\n",
    "    indices.append(find_duplicate_values(r[c]))\n",
    "    if len(indices[-1])>0:\n",
    "        print(\"disjoint index group\", indices[-1])\n",
    "        exans = True\n",
    "\n",
    "if exans:\n",
    "    for c in range(1, 5):\n",
    "        for m in range(num_samples):\n",
    "            j = choice(indices[c-1])\n",
    "            # print(r[c][j])\n",
    "            # print(r_2[j])\n",
    "            #Y_lab[m] = exact_label_reconstruction(gradients_layer2[0][0][:,j])\n",
    "\n",
    "\n",
    "    Y_lab = np.zeros(num_samples)\n",
    "    for m in range(num_samples):\n",
    "        continue\n",
    "else:\n",
    "    print(\"no exans\")\n",
    "\n",
    "\n"
   ]
  },
  {
   "cell_type": "code",
   "execution_count": null,
   "metadata": {},
   "outputs": [],
   "source": []
  }
 ],
 "metadata": {
  "kernelspec": {
   "display_name": "base",
   "language": "python",
   "name": "python3"
  },
  "language_info": {
   "codemirror_mode": {
    "name": "ipython",
    "version": 3
   },
   "file_extension": ".py",
   "mimetype": "text/x-python",
   "name": "python",
   "nbconvert_exporter": "python",
   "pygments_lexer": "ipython3",
   "version": "3.9.12"
  },
  "orig_nbformat": 4
 },
 "nbformat": 4,
 "nbformat_minor": 2
}
